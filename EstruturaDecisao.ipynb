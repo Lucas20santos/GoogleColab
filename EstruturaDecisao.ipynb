{
  "nbformat": 4,
  "nbformat_minor": 0,
  "metadata": {
    "colab": {
      "name": "EstruturaDecisao.ipynb",
      "provenance": [],
      "authorship_tag": "ABX9TyN2yh5Pw9tN4Uir6ILeybp3",
      "include_colab_link": true
    },
    "kernelspec": {
      "name": "python3",
      "display_name": "Python 3"
    },
    "language_info": {
      "name": "python"
    }
  },
  "cells": [
    {
      "cell_type": "markdown",
      "metadata": {
        "id": "view-in-github",
        "colab_type": "text"
      },
      "source": [
        "<a href=\"https://colab.research.google.com/github/Lucas20santos/GoogleColab/blob/main/EstruturaDecisao.ipynb\" target=\"_parent\"><img src=\"https://colab.research.google.com/assets/colab-badge.svg\" alt=\"Open In Colab\"/></a>"
      ]
    },
    {
      "cell_type": "markdown",
      "metadata": {
        "id": "eVAwMYvv72nT"
      },
      "source": [
        "# Exercícios de Estrutura de Decisão"
      ]
    },
    {
      "cell_type": "code",
      "metadata": {
        "id": "B_889ZLuQeEt",
        "colab": {
          "base_uri": "https://localhost:8080/"
        },
        "outputId": "bfe81bad-13d7-4608-f80f-d0ba146069a8"
      },
      "source": [
        "# Faça um Programa que peça dois números e imprima o maior deles.\n",
        "\n",
        "num1 = int(input(\"Informe o primeiro número: \"))\n",
        "num2 = int(input(\"Informe o segundo número:: \"))\n",
        "\n",
        "maior = num1 if num1 > num2 else num2\n",
        "print(f\"O maior número é: {maior}\")"
      ],
      "execution_count": 1,
      "outputs": [
        {
          "output_type": "stream",
          "name": "stdout",
          "text": [
            "Informe o primeiro número: 7\n",
            "Informe o segundo número:: 3\n",
            "O maior número é: 7\n"
          ]
        }
      ]
    },
    {
      "cell_type": "code",
      "metadata": {
        "colab": {
          "base_uri": "https://localhost:8080/"
        },
        "id": "PcWTh5cL1qX8",
        "outputId": "13219324-a41d-41df-aa59-eedc4f9ce2c4"
      },
      "source": [
        "# Faça um Programa que peça um valor e mostre na tela se o valor é positivo ou negativo.\n",
        "\n",
        "num = int(input(\"Informe um número: \"))\n",
        "\n",
        "resposta = \"positivo\" if num >= 0 else \"negativo\"\n",
        "\n",
        "print(f\"O número digitado foi:: {resposta}\")\n",
        "\n"
      ],
      "execution_count": 5,
      "outputs": [
        {
          "output_type": "stream",
          "name": "stdout",
          "text": [
            "Informe um número: 0\n",
            "O número digitado foi:: positivo\n"
          ]
        }
      ]
    },
    {
      "cell_type": "code",
      "metadata": {
        "colab": {
          "base_uri": "https://localhost:8080/"
        },
        "id": "otmeyMs_56NP",
        "outputId": "7ebf6f7f-f36e-4a0c-a183-9ace4655f01d"
      },
      "source": [
        "# Faça um Programa que verifique se uma letra digitada é \"F\" ou \"M\". Conforme a letra escrever: \n",
        "# F - Feminino, M - Masculino, Sexo Inválido.\n",
        "\n",
        "letra = input(\"Informe uma letra:: \").lower()\n",
        "\n",
        "sexo = \"sexo invalido\" if letra not in \"fm\" else \"Masculino\" if letra == \"m\" else \"Feminino\"\n",
        "\n",
        "print(f\"O sexo da pessoa é::: {sexo}!\")\n"
      ],
      "execution_count": 10,
      "outputs": [
        {
          "output_type": "stream",
          "name": "stdout",
          "text": [
            "Informe uma letra:: m\n",
            "O sexo da pessoa é::: Masculino!\n"
          ]
        }
      ]
    },
    {
      "cell_type": "code",
      "metadata": {
        "colab": {
          "base_uri": "https://localhost:8080/"
        },
        "id": "1G6DKH6J7dhW",
        "outputId": "91e728f6-e42a-462e-e06a-3df47b4b1eca"
      },
      "source": [
        "# Faça um Programa que verifique se uma letra digitada é vogal ou consoante.\n",
        "\n",
        "letra = input(\"Digite uma letra:: \").lower()[0].strip()\n",
        "\n",
        "resultado = \"é vogal\" if letra in \"aeiou\" else \"é consoante\"\n",
        "\n",
        "print(f\"A letra digitada:: {resultado}\")\n"
      ],
      "execution_count": 15,
      "outputs": [
        {
          "output_type": "stream",
          "name": "stdout",
          "text": [
            "Digite uma letra::  a\n",
            "A letra digitada:: é vogal\n"
          ]
        }
      ]
    },
    {
      "cell_type": "code",
      "metadata": {
        "colab": {
          "base_uri": "https://localhost:8080/"
        },
        "id": "qcu7jhhT8V43",
        "outputId": "05fdd183-3cb6-4b17-ce2b-ac5c1b17442d"
      },
      "source": [
        "\"\"\"\n",
        "Faça um programa para a leitura de duas notas parciais de um aluno. O programa deve calcular a média \n",
        "alcançada por aluno e apresentar:\n",
        "\n",
        "A mensagem \"Aprovado\", se a média alcançada for maior ou igual a sete;\n",
        "A mensagem \"Reprovado\", se a média for menor do que sete;\n",
        "A mensagem \"Aprovado com Distinção\", se a média for igual a dez.\n",
        "\"\"\"\n",
        "\n",
        "nota1 = float(input('Nota 1:: '))\n",
        "nota2 = float(input(\"Nota 2:: \"))\n",
        "\n",
        "media = round((nota1 + nota2)/ 2, 3)\n",
        "\n",
        "situacao = \"Aprovado com Distinção\" if media == 10 else \"Reprovado\" if media < 7 else \"Aprovado\"\n",
        "\n",
        "\n",
        "print(f\"Media do Aluno:: {media} - Situação do Aluno:: {situacao}\")\n"
      ],
      "execution_count": 20,
      "outputs": [
        {
          "output_type": "stream",
          "name": "stdout",
          "text": [
            "Nota 1:: 10\n",
            "Nota 2:: 10\n",
            "Media do Aluno:: 10.0 - Situação do Aluno:: Aprovado com Distinção\n"
          ]
        }
      ]
    },
    {
      "cell_type": "code",
      "metadata": {
        "colab": {
          "base_uri": "https://localhost:8080/"
        },
        "id": "lwQA8OES95cO",
        "outputId": "2152ca6f-34d9-4b33-e299-7c3bd8a6d262"
      },
      "source": [
        "#Faça um Programa que leia três números e mostre o maior deles.\n",
        "\n",
        "num1 = 40\n",
        "num2 = 10\n",
        "num3 = 10\n",
        "\n",
        "maior = num1 if (num1 >= num2 and num1 >= num3) else num2 if (num2 > num1 and num2 > num3) else num3\n",
        "\n",
        "print(f\"O maior número entra [{num1}, {num2}, {num3}] é:: {maior}\")\n"
      ],
      "execution_count": 24,
      "outputs": [
        {
          "output_type": "stream",
          "name": "stdout",
          "text": [
            "O maior número entra [40, 10, 10] é:: 40\n"
          ]
        }
      ]
    },
    {
      "cell_type": "code",
      "metadata": {
        "colab": {
          "base_uri": "https://localhost:8080/"
        },
        "id": "vBgczTlT_G8P",
        "outputId": "a01bcaf6-c676-48a7-e5c7-321ed531a890"
      },
      "source": [
        "# Faça um Programa que leia três números e mostre o maior e o menor deles.\n",
        "\n",
        "num1 = 40\n",
        "num2 = 50\n",
        "num3 = 200\n",
        "\n",
        "maior = num1 if (num1 >= num2 and num1 >= num3) else num2 if (num2 > num1 and num2 > num3) else num3\n",
        "menor = num1 if (num1 <= num2 and num1 <= num3) else num2 if (num2 < num1 and num2 < num3) else num3\n",
        "\n",
        "print(f\"O maior número entre [{num1}, {num2}, {num3}] é:: {maior}\")\n",
        "print(f\"O menor número entre [{num1}, {num2}, {num3}] é:: {menor}\")\n"
      ],
      "execution_count": 27,
      "outputs": [
        {
          "output_type": "stream",
          "name": "stdout",
          "text": [
            "O maior número entre [40, 50, 200] é:: 200\n",
            "O menor número entre [40, 50, 200] é:: 40\n"
          ]
        }
      ]
    },
    {
      "cell_type": "code",
      "metadata": {
        "id": "wsyWLOOF_7ij"
      },
      "source": [
        "# Faça um programa que pergunte o preço de três produtos e informe qual produto você deve comprar, \n",
        "# sabendo que a decisão é sempre pelo mais barato.\n"
      ],
      "execution_count": null,
      "outputs": []
    }
  ]
}