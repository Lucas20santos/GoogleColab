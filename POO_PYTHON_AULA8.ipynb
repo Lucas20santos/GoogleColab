{
  "nbformat": 4,
  "nbformat_minor": 0,
  "metadata": {
    "colab": {
      "name": "POO_PYTHON_AULA8.ipynb",
      "provenance": [],
      "authorship_tag": "ABX9TyP2LPJZbxE6Ax8DnRfx4K3/",
      "include_colab_link": true
    },
    "kernelspec": {
      "name": "python3",
      "display_name": "Python 3"
    },
    "language_info": {
      "name": "python"
    }
  },
  "cells": [
    {
      "cell_type": "markdown",
      "metadata": {
        "id": "view-in-github",
        "colab_type": "text"
      },
      "source": [
        "<a href=\"https://colab.research.google.com/github/Lucas20santos/GoogleColab/blob/main/POO_PYTHON_AULA8.ipynb\" target=\"_parent\"><img src=\"https://colab.research.google.com/assets/colab-badge.svg\" alt=\"Open In Colab\"/></a>"
      ]
    },
    {
      "cell_type": "code",
      "metadata": {
        "id": "Pc1MIsUSgdEM"
      },
      "source": [
        "class Circo:\n",
        "  def apresentar(self, apresentador: any):\n",
        "    # Modo não elegante\n",
        "\n",
        "    # if tipo == 1:\n",
        "    #   self.apresentar_malabarista()\n",
        "    # if tipo == 2:\n",
        "    #   self.apresentar_palhaco()\n",
        "\n",
        "  #   def apresentar_malabarista(self):\n",
        "    #   print(\"Malabarista apresentando seu show.\")\n",
        "    \n",
        "  # def apresentar_palhaco(self):\n",
        "  #   print(\"Palhaço apresentando seu show.\")\n",
        "\n",
        "    # Modo elegante\n",
        "    \n",
        "    apresentador.apresentar_show()\n"
      ],
      "execution_count": 7,
      "outputs": []
    },
    {
      "cell_type": "code",
      "metadata": {
        "id": "gPiKIqGXnBdo"
      },
      "source": [
        "class Malabarista():\n",
        "  def apresentar_show(self):\n",
        "    print(\"Malabarista apresentando seu show.\")\n",
        "\n",
        "class Palhaco():\n",
        "  def apresentar_show(self):\n",
        "    print(\"Palhaço apresentando seu show.\")\n"
      ],
      "execution_count": 8,
      "outputs": []
    },
    {
      "cell_type": "code",
      "metadata": {
        "colab": {
          "base_uri": "https://localhost:8080/"
        },
        "id": "7N8k4TBvhncD",
        "outputId": "8e571e72-d172-4aaf-80d1-a90498405367"
      },
      "source": [
        "circo = Circo()\n",
        "\n",
        "malabarista = Malabarista()\n",
        "palhaco = Palhaco()\n",
        "\n",
        "circo.apresentar(malabarista)\n",
        "circo.apresentar(palhaco)"
      ],
      "execution_count": 10,
      "outputs": [
        {
          "output_type": "stream",
          "name": "stdout",
          "text": [
            "Malabarista apresentando seu show.\n",
            "Palhaço apresentando seu show.\n"
          ]
        }
      ]
    }
  ]
}