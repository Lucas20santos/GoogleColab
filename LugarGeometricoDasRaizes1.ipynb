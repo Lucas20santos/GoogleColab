{
  "nbformat": 4,
  "nbformat_minor": 0,
  "metadata": {
    "colab": {
      "name": "LugarGeometricoDasRaizes1.ipynb",
      "provenance": [],
      "authorship_tag": "ABX9TyPhWzqqPU02hMiV/l5260B9",
      "include_colab_link": true
    },
    "kernelspec": {
      "name": "python3",
      "display_name": "Python 3"
    },
    "language_info": {
      "name": "python"
    }
  },
  "cells": [
    {
      "cell_type": "markdown",
      "metadata": {
        "id": "view-in-github",
        "colab_type": "text"
      },
      "source": [
        "<a href=\"https://colab.research.google.com/github/Lucas20santos/GoogleColab/blob/main/LugarGeometricoDasRaizes1.ipynb\" target=\"_parent\"><img src=\"https://colab.research.google.com/assets/colab-badge.svg\" alt=\"Open In Colab\"/></a>"
      ]
    },
    {
      "cell_type": "code",
      "metadata": {
        "colab": {
          "base_uri": "https://localhost:8080/",
          "height": 265
        },
        "id": "uJbJ8rxyKFnL",
        "outputId": "07169325-bb2d-4549-b1cb-42edd3f2f59c"
      },
      "source": [
        "import numpy as np\n",
        "import matplotlib.pyplot as plt\n",
        "\n",
        "parteRealP1 = []\n",
        "parteImagP1 = []\n",
        "\n",
        "parteRealP2 = []\n",
        "parteImagP2 = []\n",
        "\n",
        "K = np.arange(0, 51, 1)\n",
        "\n",
        "for k in K:\n",
        "  delta = 10 ** 2 - 4 * 1 * k\n",
        "  if delta > 0:\n",
        "    p1 = (-10 + np.sqrt(delta)) / (2 * 1)\n",
        "    p2 = (-10 - np.sqrt(delta)) / (2 * 1)\n",
        "    imagP1 = 0\n",
        "    imagP2 = 0\n",
        "\n",
        "    parteRealP1.append(p1)\n",
        "    parteRealP2.append(p2)\n",
        "    parteImagP1.append(imagP1)\n",
        "    parteImagP2.append(imagP2)\n",
        "  \n",
        "  if delta == 0:\n",
        "    p1 = (-10 / (2 * 1))\n",
        "    p2 = (-10 / (2 * 1))\n",
        "    imagP1 = 0\n",
        "    imagP2 = 0\n",
        "\n",
        "    parteRealP1.append(p1)\n",
        "    parteRealP2.append(p2)\n",
        "    parteImagP1.append(imagP1)\n",
        "    parteImagP2.append(imagP2)\n",
        "\n",
        "  if delta < 0:\n",
        "    p1 = (-10 / (2 * 1))\n",
        "    p2 = (-10 / (2 * 1))\n",
        "    imagP1 = (np.sqrt(-1 * delta)/ (2 * 1))\n",
        "    imagP2 = - imagP1\n",
        "\n",
        "    parteRealP1.append(p1)\n",
        "    parteRealP2.append(p2)\n",
        "    parteImagP1.append(imagP1)\n",
        "    parteImagP2.append(imagP2)\n",
        "\n",
        "Rp1 = np.array(parteRealP1)\n",
        "Rp2 = np.array(parteRealP2)\n",
        "\n",
        "Ip1 = np.array(parteImagP1)\n",
        "Ip2 = np.array(parteImagP2)\n",
        "\n",
        "\n",
        "plt.scatter(Rp1, Ip1)\n",
        "plt.scatter(Rp2, Ip2)\n",
        "\n",
        "plt.plot(Rp1, Ip1, '-r')\n",
        "plt.plot(Rp2, Ip2, '-b')\n",
        "plt.legend([\"p1\", \"p2\"])\n",
        "plt.show()\n"
      ],
      "execution_count": 52,
      "outputs": [
        {
          "output_type": "display_data",
          "data": {
            "image/png": "[encoded data removed]",
            "text/plain": [
              "<Figure size 432x288 with 1 Axes>"
            ]
          },
          "metadata": {
            "needs_background": "light"
          }
        }
      ]
    }
  ]
}