{
  "nbformat": 4,
  "nbformat_minor": 0,
  "metadata": {
    "colab": {
      "name": "POO_Python_Aula05.ipynb",
      "provenance": [],
      "authorship_tag": "ABX9TyPcihyb1zbxVA4023n07Kli",
      "include_colab_link": true
    },
    "kernelspec": {
      "name": "python3",
      "display_name": "Python 3"
    },
    "language_info": {
      "name": "python"
    }
  },
  "cells": [
    {
      "cell_type": "markdown",
      "metadata": {
        "id": "view-in-github",
        "colab_type": "text"
      },
      "source": [
        "<a href=\"https://colab.research.google.com/github/Lucas20santos/GoogleColab/blob/main/POO_Python_Aula05.ipynb\" target=\"_parent\"><img src=\"https://colab.research.google.com/assets/colab-badge.svg\" alt=\"Open In Colab\"/></a>"
      ]
    },
    {
      "cell_type": "markdown",
      "metadata": {
        "id": "Hh1B-CF7ag_X"
      },
      "source": [
        "# Aula 05\n",
        "\n",
        "- Variável de classe\n",
        "- método de classe\n",
        "\n",
        "É preciso entender o contexto de classe e o contexto do objeto."
      ]
    },
    {
      "cell_type": "code",
      "metadata": {
        "id": "7gS78bqgaJ-Z"
      },
      "source": [
        "class MinhaClasse:\n",
        "\n",
        "  estatico = \"lhama\"\n",
        "\n",
        "  def __init__(self, estado) -> None:\n",
        "    self.estado = estado\n",
        "\n",
        "  def print_estatico(self):\n",
        "    print(self.estatico)\n",
        "  \n",
        "  @classmethod\n",
        "  def mudar_estatico(cls):\n",
        "    cls.estatico = \"Programador\""
      ],
      "execution_count": 33,
      "outputs": []
    },
    {
      "cell_type": "code",
      "metadata": {
        "colab": {
          "base_uri": "https://localhost:8080/"
        },
        "id": "EMMDou0YbaW0",
        "outputId": "53ca6b82-7f7d-48f4-e027-5c926805f17c"
      },
      "source": [
        "obj1 = MinhaClasse(True)\n",
        "obj2 = MinhaClasse(False)\n",
        "\n",
        "# obj1.estatico = \"Programador\"\n",
        "\n",
        "print(obj1.estatico)\n",
        "print(obj2.estatico)\n",
        "print(MinhaClasse.estatico)"
      ],
      "execution_count": 34,
      "outputs": [
        {
          "output_type": "stream",
          "name": "stdout",
          "text": [
            "lhama\n",
            "lhama\n",
            "lhama\n"
          ]
        }
      ]
    },
    {
      "cell_type": "code",
      "metadata": {
        "colab": {
          "base_uri": "https://localhost:8080/"
        },
        "id": "gnyIevt4I-uR",
        "outputId": "6c8096ba-99a5-4dee-9d83-5105a9cb6b04"
      },
      "source": [
        "# MinhaClasse.estatico = \"Programador\"\n",
        "\n",
        "print(obj1.estatico)\n",
        "print(obj2.estatico)\n",
        "print(MinhaClasse.estatico)"
      ],
      "execution_count": 35,
      "outputs": [
        {
          "output_type": "stream",
          "name": "stdout",
          "text": [
            "lhama\n",
            "lhama\n",
            "lhama\n"
          ]
        }
      ]
    },
    {
      "cell_type": "code",
      "metadata": {
        "colab": {
          "base_uri": "https://localhost:8080/"
        },
        "id": "dSnIQoqr9ZS6",
        "outputId": "c2caf985-3112-4217-ed7c-ed85efe27538"
      },
      "source": [
        "obj1.print_estatico()"
      ],
      "execution_count": 36,
      "outputs": [
        {
          "output_type": "stream",
          "name": "stdout",
          "text": [
            "lhama\n"
          ]
        }
      ]
    },
    {
      "cell_type": "code",
      "metadata": {
        "colab": {
          "base_uri": "https://localhost:8080/"
        },
        "id": "knDJ3zNE_yRb",
        "outputId": "35eb392c-272a-4a71-9b5e-6055fcddc3bc"
      },
      "source": [
        "obj1.mudar_estatico()\n",
        "obj1.print_estatico()\n",
        "obj2.print_estatico()"
      ],
      "execution_count": 37,
      "outputs": [
        {
          "output_type": "stream",
          "name": "stdout",
          "text": [
            "Programador\n",
            "Programador\n"
          ]
        }
      ]
    },
    {
      "cell_type": "code",
      "metadata": {
        "id": "7rC2jOmzAYKR"
      },
      "source": [
        ""
      ],
      "execution_count": null,
      "outputs": []
    }
  ]
}