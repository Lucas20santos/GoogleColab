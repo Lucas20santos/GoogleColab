{
  "nbformat": 4,
  "nbformat_minor": 0,
  "metadata": {
    "colab": {
      "name": "Loja.ipynb",
      "provenance": [],
      "authorship_tag": "ABX9TyOtSbxFtkBuEvMjt+5TPJ56",
      "include_colab_link": true
    },
    "kernelspec": {
      "name": "python3",
      "display_name": "Python 3"
    },
    "language_info": {
      "name": "python"
    }
  },
  "cells": [
    {
      "cell_type": "markdown",
      "metadata": {
        "id": "view-in-github",
        "colab_type": "text"
      },
      "source": [
        "<a href=\"https://colab.research.google.com/github/Lucas20santos/GoogleColab/blob/main/Loja.ipynb\" target=\"_parent\"><img src=\"https://colab.research.google.com/assets/colab-badge.svg\" alt=\"Open In Colab\"/></a>"
      ]
    },
    {
      "cell_type": "code",
      "metadata": {
        "id": "fuimEwHaCbVk"
      },
      "source": [
        "class Loja:\n",
        "  \n",
        "  tarifa = 1.03\n",
        "\n",
        "  def __init__(self, endereco: str) -> None:\n",
        "    self.__endereco = endereco\n",
        "  \n",
        "  def getTarifa(self) -> float:\n",
        "    return self.tarifa\n",
        "  \n",
        "  def getEndereco(self) -> str:\n",
        "    return self.__endereco\n",
        "  \n",
        "  def setTarifa(self, t: float) -> None:\n",
        "    self.tarifa = t\n",
        "\n",
        "  def setEndereco(self, e: str) -> None:\n",
        "    self.__endereco = e\n",
        "\n",
        "  def apresentar_endereco(self) -> None:\n",
        "    print(getEndereco())\n",
        "  \n",
        "  @classmethod\n",
        "  def vender(cls) -> int:\n",
        "    return 40 * cls.tarifa\n",
        "\n",
        "  @classmethod\n",
        "  def alterarTarifa(clc, novaTarifa: float) -> None:\n",
        "    clc.tarifa = novaTarifa"
      ],
      "execution_count": 12,
      "outputs": []
    },
    {
      "cell_type": "code",
      "metadata": {
        "colab": {
          "base_uri": "https://localhost:8080/"
        },
        "id": "GYzq8LnND3qD",
        "outputId": "cd4a56c3-b6f8-4858-f15e-b0d1360536a0"
      },
      "source": [
        "loja_praia = Loja(\"Praia\")\n",
        "loja_centro = Loja(\"Centro\")\n",
        "\n",
        "print(loja_praia.vender())\n",
        "print(loja_centro.vender())"
      ],
      "execution_count": 13,
      "outputs": [
        {
          "output_type": "stream",
          "name": "stdout",
          "text": [
            "41.2\n",
            "41.2\n"
          ]
        }
      ]
    },
    {
      "cell_type": "code",
      "metadata": {
        "id": "3tcM6reWINpj"
      },
      "source": [
        "loja_centro.alterarTarifa(1.50)"
      ],
      "execution_count": 14,
      "outputs": []
    },
    {
      "cell_type": "code",
      "metadata": {
        "colab": {
          "base_uri": "https://localhost:8080/"
        },
        "id": "SR5nAnOUIhHn",
        "outputId": "bd0072cc-883a-4055-b239-1f49212dc3a3"
      },
      "source": [
        "print(loja_praia.vender())\n",
        "print(loja_centro.vender())"
      ],
      "execution_count": 15,
      "outputs": [
        {
          "output_type": "stream",
          "name": "stdout",
          "text": [
            "60.0\n",
            "60.0\n"
          ]
        }
      ]
    }
  ]
}