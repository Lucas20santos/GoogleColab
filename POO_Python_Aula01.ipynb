{
  "nbformat": 4,
  "nbformat_minor": 0,
  "metadata": {
    "colab": {
      "name": "POO_Python_Aula01.ipynb",
      "provenance": [],
      "collapsed_sections": [],
      "authorship_tag": "ABX9TyM7ldHkWczEBZw9iA3tr+A9",
      "include_colab_link": true
    },
    "kernelspec": {
      "name": "python3",
      "display_name": "Python 3"
    },
    "language_info": {
      "name": "python"
    }
  },
  "cells": [
    {
      "cell_type": "markdown",
      "metadata": {
        "id": "view-in-github",
        "colab_type": "text"
      },
      "source": [
        "<a href=\"https://colab.research.google.com/github/Lucas20santos/GoogleColab/blob/main/POO_Python_Aula01.ipynb\" target=\"_parent\"><img src=\"https://colab.research.google.com/assets/colab-badge.svg\" alt=\"Open In Colab\"/></a>"
      ]
    },
    {
      "cell_type": "code",
      "metadata": {
        "id": "4PrjfGh_O_8p"
      },
      "source": [
        "class MinhaClasse():\n",
        "\n",
        "  def __init__(self, att):\n",
        "    self.meu_atributo = \"olá Mundo\"\n",
        "    self.meu_atributo2 = att\n",
        "\n",
        "  def meu_metodo(self):\n",
        "    # O self é usado para a classe identificar o método dentro do contexto da classe\n",
        "    print(\"Estou no método!\")\n",
        "    print(self.meu_atributo)\n",
        "    print(self.meu_atributo2)\n",
        "  \n",
        "  def meu_metodo2(self, num, mult):\n",
        "    return num * mult\n"
      ],
      "execution_count": 23,
      "outputs": []
    },
    {
      "cell_type": "code",
      "metadata": {
        "colab": {
          "base_uri": "https://localhost:8080/"
        },
        "id": "EGpLY9qap472",
        "outputId": "56d66129-554d-434b-ef90-dd155dee8a42"
      },
      "source": [
        "m1 = MinhaClasse(\"meu atributo!\")\n",
        "m1.meu_metodo()"
      ],
      "execution_count": 24,
      "outputs": [
        {
          "output_type": "stream",
          "name": "stdout",
          "text": [
            "Estou no método!\n",
            "olá Mundo\n",
            "meu atributo!\n"
          ]
        }
      ]
    },
    {
      "cell_type": "code",
      "metadata": {
        "colab": {
          "base_uri": "https://localhost:8080/"
        },
        "id": "5VQ8TIBSqB4h",
        "outputId": "cd192957-a833-454a-bcab-d916285b0bb6"
      },
      "source": [
        "result = m1.meu_metodo2(3, 4)\n",
        "result"
      ],
      "execution_count": 25,
      "outputs": [
        {
          "output_type": "execute_result",
          "data": {
            "text/plain": [
              "12"
            ]
          },
          "metadata": {},
          "execution_count": 25
        }
      ]
    },
    {
      "cell_type": "code",
      "metadata": {
        "colab": {
          "base_uri": "https://localhost:8080/",
          "height": 35
        },
        "id": "Du69XRXErMud",
        "outputId": "f7ff042b-273d-4ff4-bca4-870823322814"
      },
      "source": [
        "m1.meu_atributo"
      ],
      "execution_count": 26,
      "outputs": [
        {
          "output_type": "execute_result",
          "data": {
            "application/vnd.google.colaboratory.intrinsic+json": {
              "type": "string"
            },
            "text/plain": [
              "'olá Mundo'"
            ]
          },
          "metadata": {},
          "execution_count": 26
        }
      ]
    },
    {
      "cell_type": "code",
      "metadata": {
        "id": "9e8_jAvzr5Ez"
      },
      "source": [
        "class ControleRemoto():\n",
        "  def __init__(self, televisao, comodo):\n",
        "    self.televisao = televisao\n",
        "    self.como = comodo\n",
        "  \n",
        "  def avancar_canal(self):\n",
        "    print(\"Canal Avançado!\")\n",
        "  \n",
        "  def voltar_canal(self):\n",
        "    print(\"Voltar o canal\")\n",
        "  \n",
        "  def escolher_canal(self, canal):\n",
        "    print(f\"Alterado para o canal: {canal}\")\n",
        "  "
      ],
      "execution_count": 27,
      "outputs": []
    },
    {
      "cell_type": "code",
      "metadata": {
        "colab": {
          "base_uri": "https://localhost:8080/"
        },
        "id": "RrEXvrwywdiJ",
        "outputId": "54cbad5e-e866-4afb-fe3d-b8e85143e225"
      },
      "source": [
        "controle_sala = ControleRemoto(\"sansung\", \"sala\")\n",
        "print(controle_sala.televisao)\n",
        "print(controle_sala.comodo)"
      ],
      "execution_count": 28,
      "outputs": [
        {
          "output_type": "stream",
          "name": "stdout",
          "text": [
            "\n"
          ]
        }
      ]
    }
  ]
}