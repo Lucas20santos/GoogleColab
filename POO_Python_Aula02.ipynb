{
  "nbformat": 4,
  "nbformat_minor": 0,
  "metadata": {
    "colab": {
      "name": "POO_Python_Aula02.ipynb",
      "provenance": [],
      "authorship_tag": "ABX9TyP28Pts/9ZS+mDSd8y5FUlq",
      "include_colab_link": true
    },
    "kernelspec": {
      "name": "python3",
      "display_name": "Python 3"
    },
    "language_info": {
      "name": "python"
    }
  },
  "cells": [
    {
      "cell_type": "markdown",
      "metadata": {
        "id": "view-in-github",
        "colab_type": "text"
      },
      "source": [
        "<a href=\"https://colab.research.google.com/github/Lucas20santos/GoogleColab/blob/main/POO_Python_Aula02.ipynb\" target=\"_parent\"><img src=\"https://colab.research.google.com/assets/colab-badge.svg\" alt=\"Open In Colab\"/></a>"
      ]
    },
    {
      "cell_type": "code",
      "metadata": {
        "id": "jVF3FjBvytl7"
      },
      "source": [
        "# Quando criamos uma classe criamos um contexto e o objeto está fora \n",
        "# do contexto\n",
        "# colando \"__\" na frente de atributos ou métodos deixa \n",
        "# eles privados, só dentro da classe pode ser acessado\n",
        "\n",
        "class Pessoa():\n",
        "  def __init__(self, nome, idade, cpf):\n",
        "    self.nome = nome\n",
        "    self.idade = idade\n",
        "    self.__cpf = cpf\n",
        "  \n",
        "  def correr(self):\n",
        "    print(\"Estou correndo!\")\n",
        "  \n",
        "  def __apresentar_documento(self):\n",
        "    print(self.__cpf)\n",
        "  \n",
        "  def beber(self, bebida):\n",
        "    if bebida.lower().strip() == \"cerveja\":\n",
        "      self.__apresentar_documento()\n",
        "    print(\"Bebendo\")\n",
        "    \n"
      ],
      "execution_count": 2,
      "outputs": []
    },
    {
      "cell_type": "code",
      "metadata": {
        "colab": {
          "base_uri": "https://localhost:8080/"
        },
        "id": "7FSooTFE0_SE",
        "outputId": "33b4b928-b4a8-4a1e-b29b-474940f82eb7"
      },
      "source": [
        "ronaldo = Pessoa(\"Ronaldo\", 23, \"000.000.000-00\")\n",
        "print(ronaldo.nome)\n",
        "ronaldo.beber(\"cerveja\")\n",
        "ronaldo.beber(\"coca-cola\")"
      ],
      "execution_count": 3,
      "outputs": [
        {
          "output_type": "stream",
          "name": "stdout",
          "text": [
            "Ronaldo\n",
            "000.000.000-00\n",
            "Bebendo\n",
            "Bebendo\n"
          ]
        }
      ]
    },
    {
      "cell_type": "code",
      "metadata": {
        "id": "cXGnYm8H1I6N"
      },
      "source": [
        "class Calculadora():\n",
        "  def calcular(self, op, num1, num2):\n",
        "    if op == \"+\":\n",
        "      return self.__adicionar(num1, num2)\n",
        "    elif op == \"-\":\n",
        "      return self.__subtrair(num1, num2)\n",
        "    else:\n",
        "      print(\"Operação invalidade!\")\n",
        "  \n",
        "  def __adicionar(self, num1, num2):\n",
        "    return num1 + num2\n",
        "  \n",
        "  def __subtrair(self, num1, num2):\n",
        "    return num1 - num2\n",
        "\n"
      ],
      "execution_count": 4,
      "outputs": []
    },
    {
      "cell_type": "code",
      "metadata": {
        "id": "Se5z4H2z4cEO",
        "colab": {
          "base_uri": "https://localhost:8080/"
        },
        "outputId": "07517aa4-88ed-4357-d749-41695bb6e62b"
      },
      "source": [
        "calculadora = Calculadora()\n",
        "print(calculadora.calcular(\"+\", 4, 5))\n",
        "print(calculadora.calcular(\"-\", 5, 4))"
      ],
      "execution_count": 7,
      "outputs": [
        {
          "output_type": "stream",
          "name": "stdout",
          "text": [
            "9\n",
            "1\n"
          ]
        }
      ]
    },
    {
      "cell_type": "code",
      "metadata": {
        "id": "jlutr8rk7aQj"
      },
      "source": [
        ""
      ],
      "execution_count": null,
      "outputs": []
    }
  ]
}