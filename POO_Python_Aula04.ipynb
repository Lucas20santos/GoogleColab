{
  "nbformat": 4,
  "nbformat_minor": 0,
  "metadata": {
    "colab": {
      "name": "POO_Python_Aula04.ipynb",
      "provenance": [],
      "authorship_tag": "ABX9TyPjjlvpHW125yMPFwPdccsV",
      "include_colab_link": true
    },
    "kernelspec": {
      "name": "python3",
      "display_name": "Python 3"
    },
    "language_info": {
      "name": "python"
    }
  },
  "cells": [
    {
      "cell_type": "markdown",
      "metadata": {
        "id": "view-in-github",
        "colab_type": "text"
      },
      "source": [
        "<a href=\"https://colab.research.google.com/github/Lucas20santos/GoogleColab/blob/main/POO_Python_Aula04.ipynb\" target=\"_parent\"><img src=\"https://colab.research.google.com/assets/colab-badge.svg\" alt=\"Open In Colab\"/></a>"
      ]
    },
    {
      "cell_type": "code",
      "metadata": {
        "id": "pvrfv-i-_-Tp"
      },
      "source": [
        "# Principio da unica responsabilidade em SOLID\n",
        "\n",
        "class SistemaCadastral1:\n",
        "  def cadastrar(self, nome: str, idade: int) -> None:\n",
        "    if isinstance(nome, str) and isinstance(idade, int):\n",
        "      print(\"Acessando o banco de dados...\")\n",
        "      print(f\"Cadastrar o Usuario {nome}. Idade {idade}\")\n",
        "    else:\n",
        "      print(\"Dados inválidos\")\n",
        "\n",
        "# O método acima tem problemas, pq ele está tendo várias responsabilidade\n"
      ],
      "execution_count": 1,
      "outputs": []
    },
    {
      "cell_type": "code",
      "metadata": {
        "id": "TnUy71cARyVT"
      },
      "source": [
        "class SistemaCadastral2:\n",
        "  def cadastrar(self, nome: str, idade: int) -> None:\n",
        "    if self.__verificar_dados(nome, idade):\n",
        "      self.__armazenar_usuario(nome, idade)\n",
        "    else:\n",
        "      self.__indicar_erro()\n",
        "  \n",
        "  def __verificar_dados(self, nome: str, idade: int) -> bool:\n",
        "    if isinstance(nome, str) and isinstance(idade, int):\n",
        "      return True\n",
        "    else:\n",
        "      return False\n",
        "  \n",
        "  def __armazenar_usuario(self, nome, idade) -> None:\n",
        "    print(\"acessando o bancco de dados\")\n",
        "    print(f\"Cadastrar o Usuário {nome}, Idade {idade}.\")\n",
        "\n",
        "  def __indicar_erro(self) -> None:\n",
        "    print(\"dados invalido!\")"
      ],
      "execution_count": 7,
      "outputs": []
    },
    {
      "cell_type": "code",
      "metadata": {
        "colab": {
          "base_uri": "https://localhost:8080/"
        },
        "id": "87_2pzdfZFtf",
        "outputId": "f77efd1b-ce71-48ac-edc3-81fa6af29a19"
      },
      "source": [
        "sis = SistemaCadastral2()\n",
        "sis.cadastrar(\"Lucas\", 29)"
      ],
      "execution_count": 9,
      "outputs": [
        {
          "output_type": "stream",
          "name": "stdout",
          "text": [
            "acessando o bancco de dados\n",
            "Cadastrar o Usuário Lucas, Idade 29.\n"
          ]
        }
      ]
    }
  ]
}