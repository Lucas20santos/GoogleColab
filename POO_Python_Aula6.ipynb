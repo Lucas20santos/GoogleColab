{
  "nbformat": 4,
  "nbformat_minor": 0,
  "metadata": {
    "colab": {
      "name": "POO_Python_Aula6.ipynb",
      "provenance": [],
      "authorship_tag": "ABX9TyOYoP9w6qbVkpZXBgDqZOXG",
      "include_colab_link": true
    },
    "kernelspec": {
      "display_name": "Python 3",
      "name": "python3"
    },
    "language_info": {
      "name": "python"
    }
  },
  "cells": [
    {
      "cell_type": "markdown",
      "metadata": {
        "id": "view-in-github",
        "colab_type": "text"
      },
      "source": [
        "<a href=\"https://colab.research.google.com/github/Lucas20santos/GoogleColab/blob/main/POO_Python_Aula6.ipynb\" target=\"_parent\"><img src=\"https://colab.research.google.com/assets/colab-badge.svg\" alt=\"Open In Colab\"/></a>"
      ]
    },
    {
      "cell_type": "code",
      "metadata": {
        "colab": {
          "background_save": true
        },
        "id": "k_z_xBjDNPX7"
      },
      "source": [
        "class Error:\n",
        "\n",
        "  @staticmethod\n",
        "  def error_500():\n",
        "    print(\"Internal Server Error\")\n",
        "  \n",
        "  @staticmethod\n",
        "  def error_404():\n",
        "    print(\"Not Found\")"
      ],
      "execution_count": null,
      "outputs": []
    },
    {
      "cell_type": "code",
      "metadata": {
        "id": "oN1MBLARLXZh"
      },
      "source": [
        "class MinhaClasse:\n",
        "\n",
        "  def __init__(self, estado):\n",
        "    self.estado = estado  \n",
        "\n",
        "  @staticmethod\n",
        "  def metodo_estatico():\n",
        "    print(\"Estou no meu metodo estatico :D\")"
      ],
      "execution_count": null,
      "outputs": []
    }
  ]
}