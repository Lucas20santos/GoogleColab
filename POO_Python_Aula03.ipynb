{
  "nbformat": 4,
  "nbformat_minor": 0,
  "metadata": {
    "colab": {
      "name": "POO_Python_Aula03.ipynb",
      "provenance": [],
      "authorship_tag": "ABX9TyMPoNHjQK0bKbFJ+pcLbklU",
      "include_colab_link": true
    },
    "kernelspec": {
      "name": "python3",
      "display_name": "Python 3"
    },
    "language_info": {
      "name": "python"
    }
  },
  "cells": [
    {
      "cell_type": "markdown",
      "metadata": {
        "id": "view-in-github",
        "colab_type": "text"
      },
      "source": [
        "<a href=\"https://colab.research.google.com/github/Lucas20santos/GoogleColab/blob/main/POO_Python_Aula03.ipynb\" target=\"_parent\"><img src=\"https://colab.research.google.com/assets/colab-badge.svg\" alt=\"Open In Colab\"/></a>"
      ]
    },
    {
      "cell_type": "code",
      "metadata": {
        "id": "5SWU1GZX7_gU"
      },
      "source": [
        "class Pessoa:\n",
        "\n",
        "  def __init__(self, name: str, age: int) -> None:\n",
        "    self.name = name\n",
        "    self.age = age\n",
        "  \n",
        "\n",
        "  def dirigir(self, veiculo: str) -> None:\n",
        "    print(f\"Dirigindo um(a) {veiculo}\")\n",
        "  \n",
        "  def cantar(self) -> None:\n",
        "    print(\"LaLaLa Laaaaa\")\n",
        "  \n",
        "  def apresentar_idade(self) -> int:\n",
        "    return self.age\n"
      ],
      "execution_count": 1,
      "outputs": []
    },
    {
      "cell_type": "code",
      "metadata": {
        "id": "XJr-TSRC97uH"
      },
      "source": [
        "class Alarme:\n",
        "  def __init__(self, estado: bool) -> None:\n",
        "    self.__estado = estado\n",
        "  \n",
        "  def get_esstado(self) -> bool:\n",
        "    return self.__estado\n",
        "  \n",
        "  def set_estado(self, valor: bool) -> None:\n",
        "    self.__estado = valor\n",
        "    "
      ],
      "execution_count": null,
      "outputs": []
    }
  ]
}