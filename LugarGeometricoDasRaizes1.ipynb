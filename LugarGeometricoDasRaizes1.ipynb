{
  "nbformat": 4,
  "nbformat_minor": 0,
  "metadata": {
    "colab": {
      "name": "LugarGeometricoDasRaizes1.ipynb",
      "provenance": [],
      "authorship_tag": "ABX9TyPxJicbuBaAvfySRGRSromf",
      "include_colab_link": true
    },
    "kernelspec": {
      "name": "python3",
      "display_name": "Python 3"
    },
    "language_info": {
      "name": "python"
    }
  },
  "cells": [
    {
      "cell_type": "markdown",
      "metadata": {
        "id": "view-in-github",
        "colab_type": "text"
      },
      "source": [
        "<a href=\"https://colab.research.google.com/github/Lucas20santos/GoogleColab/blob/main/LugarGeometricoDasRaizes1.ipynb\" target=\"_parent\"><img src=\"https://colab.research.google.com/assets/colab-badge.svg\" alt=\"Open In Colab\"/></a>"
      ]
    },
    {
      "cell_type": "markdown",
      "metadata": {
        "id": "Bk70_MNJekll"
      },
      "source": [
        "# Lugar Geometrico das Raizes\n",
        "\n",
        "Esse projeto visa desenhar ou plotar os locais por onde os polo da função de transferência: \n",
        "\n",
        "${\\Large H(s) = {k\\over (s^2 + 10s + k)}}$\n",
        "\n",
        "irão passar.\n",
        "\n",
        "Para isso, foi usado as seguintes ferramentas:"
      ]
    },
    {
      "cell_type": "markdown",
      "metadata": {
        "id": "9k_v2wsAeqoZ"
      },
      "source": [
        "A primeira célula desse programa importa as bibliotecas que serão importante para a criação de vetores e a plotangem do gráfico.\n",
        "- numpy\n",
        "\n",
        "  - Essa biblioteca será responsável por criar nossos vetores\n",
        "  - np é um apelido(alias) dado a biblioteca numpy para encurtar o nome da biblioteca.\n",
        "\n",
        "- matplotlib.pyplot\n",
        "  - Essa biblioteca será usada para criar os gráficos\n",
        "  - plt é o apelido dela\n",
        "\n",
        "Também foi criado 4 lista, de forma global, para armazenar os valores das partes real e imaginárias dos polos p1 e p2.\n",
        "\n",
        "Foi usado a função: \n",
        "\n",
        "$ {\\Large np.arange(start, stop, step)},$\n",
        "  \n",
        "  - start: valor inicial, no nosso exemplo foi 0\n",
        "  - stop: valor final, nesse exemplo 51\n",
        "  - step: passo, nesse exemplo 1.\n",
        "\n",
        "para criar os valores do parâmetro $K$ que varia de 0 até 50; mas, como o último número não é pego pela função, o parâmetro $K$ varia de 0 até 50.\n",
        "\n",
        "## Funções\n",
        "\n",
        "As funções deltaPositivo(), deltaIgualAZero() e deltaNegativo(); trabalha com o delta da função do segundo grau. A função inserirPontos() foi criado para inserir os valores dos polos em suas respectivas listas e por último foi criado a função tranformaListaEmVetor(), que o próprio nome deixa bem claro a função dela.\n",
        "\n",
        "As duas últimas células, fazendo uma analogia, seria o nosso metodo principal que chama, quando preciso for, as outras funções. E por último são os métodos para plotar os gráficos."
      ]
    },
    {
      "cell_type": "code",
      "metadata": {
        "id": "uJbJ8rxyKFnL"
      },
      "source": [
        "import numpy as np\n",
        "import matplotlib.pyplot as plt\n",
        "\n",
        "K = np.arange(0, 51, 1)\n",
        "parteRealP1 = []\n",
        "parteImagP1 = []\n",
        "\n",
        "parteRealP2 = []\n",
        "parteImagP2 = []"
      ],
      "execution_count": 99,
      "outputs": []
    },
    {
      "cell_type": "code",
      "metadata": {
        "id": "e1q-GxQiORwB"
      },
      "source": [
        "def deltaPositivo(delta):\n",
        "  p1 = (-10 + np.sqrt(delta)) / (2 * 1)\n",
        "  p2 = (-10 - np.sqrt(delta)) / (2 * 1)\n",
        "  i2 = 0\n",
        "  i1 = 0\n",
        "  return p1, p2, i1, i2"
      ],
      "execution_count": 100,
      "outputs": []
    },
    {
      "cell_type": "code",
      "metadata": {
        "id": "iif8zIFzOzAM"
      },
      "source": [
        "def deltaIgualAZero(delta):\n",
        "  p1 = (-10 / (2 * 1))\n",
        "  p2 = p1\n",
        "  i1 = 0\n",
        "  i2 = 0\n",
        "  return p1, p2, i1, i2"
      ],
      "execution_count": 101,
      "outputs": []
    },
    {
      "cell_type": "code",
      "metadata": {
        "id": "DygbuU4AQbWI"
      },
      "source": [
        "def deltaNegativo(delta):\n",
        "  p1 = (-10 / (2 * 1))\n",
        "  p2 = (-10 / (2 * 1))\n",
        "  i1 = (np.sqrt(-1 * delta)/ (2 * 1))\n",
        "  i2 = - i1\n",
        "  return p1, p2, i1, i2"
      ],
      "execution_count": 102,
      "outputs": []
    },
    {
      "cell_type": "code",
      "metadata": {
        "id": "Sd6fDx2bU_Au"
      },
      "source": [
        "def inserirPontos(p1, p2, i1, i2):\n",
        "\n",
        "  parteRealP1.append(p1)\n",
        "  parteRealP2.append(p2)\n",
        "  parteImagP1.append(i1)\n",
        "  parteImagP2.append(i2)\n",
        "\n",
        "  return parteRealP1, parteImagP1, parteRealP2, parteImagP2"
      ],
      "execution_count": 103,
      "outputs": []
    },
    {
      "cell_type": "code",
      "metadata": {
        "id": "VVhNmeemVOgE"
      },
      "source": [
        "def tranformaListaEmVetor(listaRealP1, listaImgP1, listaRealP2, listaImgP2):\n",
        "  realP1 = np.array(listaRealP1)\n",
        "  imgP1  = np.array(listaImgP1)\n",
        "  \n",
        "  realP2 = np.array(listaRealP2)\n",
        "  imgP2  = np.array(listaImgP2)\n",
        "\n",
        "  return realP1, realP2, imgP1, imgP2 "
      ],
      "execution_count": 104,
      "outputs": []
    },
    {
      "cell_type": "code",
      "metadata": {
        "id": "PqzO9SfbU1iQ"
      },
      "source": [
        "for k in K:\n",
        "  delta = 10 ** 2 - 4 * 1 * k\n",
        "  if delta > 0:\n",
        "    p1, p2, i1, i2 = deltaPositivo(delta)\n",
        "  \n",
        "  if delta == 0:\n",
        "    p1, p2, i1, i2 = deltaIgualAZero(delta)\n",
        "\n",
        "  if delta < 0:\n",
        "    p1, p2, i1, i2 = deltaNegativo(delta)\n",
        "\n",
        "  \n",
        "  listaRealP1, listaImgP1, listaRealP2, listaImgP2 = inserirPontos(p1, p2, i1, i2)\n",
        "\n",
        "Rp1, Rp2, Ip1, Ip2 = tranformaListaEmVetor(listaRealP1, listaImgP1, listaRealP2, listaImgP2)"
      ],
      "execution_count": 105,
      "outputs": []
    },
    {
      "cell_type": "code",
      "metadata": {
        "colab": {
          "base_uri": "https://localhost:8080/",
          "height": 374
        },
        "id": "7JG0BbIKNvqU",
        "outputId": "933acd3e-5d33-468e-9a91-2b6646b41781"
      },
      "source": [
        "fig = plt.figure(figsize=(20, 6))\n",
        "\n",
        "\n",
        "plt.plot(Rp1, Ip1, '-r')\n",
        "plt.plot(Rp2, Ip2, '-b')\n",
        "plt.legend([\"p1\", \"p2\"])\n",
        "plt.show()"
      ],
      "execution_count": 106,
      "outputs": [
        {
          "output_type": "display_data",
          "data": {
            "image/png": "[encoded data removed]",
            "text/plain": [
              "<Figure size 1440x432 with 1 Axes>"
            ]
          },
          "metadata": {
            "needs_background": "light"
          }
        }
      ]
    },
    {
      "cell_type": "markdown",
      "metadata": {
        "id": "S3rgif-S-Svu"
      },
      "source": [
        "## Conclusão\n",
        "\n",
        "A seta azul representa os valores do polo $p_2$ e por onde ele passa quando o valor de $k$ varia; e a reta em vermelho, representa os valores de $p_1$ variando da mesma forma que outro polo. \n",
        "\n",
        "O polo $p_2$ começa no valor -10, chega no valor -5 e desce; enquanto $p_1$, começa em 0 chega até -5 e sobe. \n",
        "\n",
        "Podemos concluir que o sistema de $H(s)$ é estável para todo o valor de $K$, exceto quando o valor de $K = 0$, aonde exite um polo encima do eixo $j\\omega$, para esse caso o sistema é marginalmente estável."
      ]
    },
    {
      "cell_type": "code",
      "metadata": {
        "id": "90-G6A76ADFs"
      },
      "source": [
        ""
      ],
      "execution_count": null,
      "outputs": []
    }
  ]
}