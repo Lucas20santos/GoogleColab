{
  "nbformat": 4,
  "nbformat_minor": 0,
  "metadata": {
    "colab": {
      "name": "POO_Python_Aula07.ipynb",
      "provenance": [],
      "authorship_tag": "ABX9TyOkxS6pZfWr1rKkDOd9xJ0z",
      "include_colab_link": true
    },
    "kernelspec": {
      "name": "python3",
      "display_name": "Python 3"
    },
    "language_info": {
      "name": "python"
    }
  },
  "cells": [
    {
      "cell_type": "markdown",
      "metadata": {
        "id": "view-in-github",
        "colab_type": "text"
      },
      "source": [
        "<a href=\"https://colab.research.google.com/github/Lucas20santos/GoogleColab/blob/main/POO_Python_Aula07.ipynb\" target=\"_parent\"><img src=\"https://colab.research.google.com/assets/colab-badge.svg\" alt=\"Open In Colab\"/></a>"
      ]
    },
    {
      "cell_type": "code",
      "metadata": {
        "id": "Eo8WXgYRPwrM"
      },
      "source": [
        "from typing import Type\n",
        "\n",
        "class Interruptor:\n",
        "\n",
        "  def __init__(self, comodo):\n",
        "    self.__comodo = comodo\n",
        "  \n",
        "  def acender(self):\n",
        "    print(f\"acendendo luz do {self.__comodo}\")\n",
        "  \n",
        "  def apagar(self):\n",
        "    print(f\"apagando luz do {self.__comodo}.\")"
      ],
      "execution_count": 12,
      "outputs": []
    },
    {
      "cell_type": "code",
      "metadata": {
        "id": "hP75Obr7ddWH"
      },
      "source": [
        "class Pessoa():\n",
        "  def acender_luz(self, interruptor: Type[Interruptor]):\n",
        "    interruptor.acender()\n",
        "  \n",
        "  def apagar_luz(self, interruptor: Type[Interruptor]):\n",
        "    interruptor.apagar()\n",
        "\n",
        "  def dormir(self):\n",
        "    print(\"Foi dormir...\")"
      ],
      "execution_count": 13,
      "outputs": []
    },
    {
      "cell_type": "code",
      "metadata": {
        "colab": {
          "base_uri": "https://localhost:8080/"
        },
        "id": "PIFmCBqlfHzY",
        "outputId": "8e57d29f-be31-4bea-d119-e4de18ad0c36"
      },
      "source": [
        "lhama = Pessoa()\n",
        "interruptor_quarto = Interruptor(\"Quarto\")\n",
        "lhama.acender_luz(interruptor_quarto)"
      ],
      "execution_count": 14,
      "outputs": [
        {
          "output_type": "stream",
          "name": "stdout",
          "text": [
            "acendendo luz do Quarto\n"
          ]
        }
      ]
    }
  ]
}